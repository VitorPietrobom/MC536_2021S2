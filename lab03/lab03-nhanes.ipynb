{
 "cells": [
  {
   "cell_type": "markdown",
   "metadata": {},
   "source": [
    "# National Health and Nutrition Examination Survey (NHANES)\n",
    "[https://wwwn.cdc.gov/nchs/nhanes/](https://wwwn.cdc.gov/nchs/nhanes/)\n",
    "\n",
    "Este laboratório usará dados extraídos do NHANES.\n",
    "\n",
    "## NHANES datasets from 2013-2014\n",
    "\n",
    "Foram extraídos dados do [NHANES 2013-2014](https://wwwn.cdc.gov/nchs/nhanes/continuousnhanes/default.aspx?BeginYear=2013).\n",
    "\n",
    "Os dados estão disponíveis em arquivos CSV no diretório `/data/nhanes`. Lá está disponível a documentação do esquema dos arquivos."
   ]
  },
  {
   "cell_type": "markdown",
   "metadata": {},
   "source": [
    "# Tarefa 1 - Esquema Relacional\n",
    "\n",
    "Analise os arquivos CSV que estão no diretório `/data/nhanes` e escreva um esquema relacional referente às tabelas, suas chaves primárias e estrangeiras (não é SQL ainda). Coloque a chave primária com dois underlines antes e dois depois:\n",
    "\n",
    "\\__teste\\__"
   ]
  },
  {
   "cell_type": "markdown",
   "metadata": {},
   "source": [
    "demographic-person(__id__, gender, age)\n",
    "\n",
    "medications-drug(__code__, name)\n",
    "\n",
    "medications-use(person_id, drug_code, __days_use__)\n",
    "\n",
    "CHE -> person_id para demographic-person\n",
    "\n",
    "CHE -> drug_code para medications-drug"
   ]
  },
  {
   "cell_type": "markdown",
   "metadata": {},
   "source": [
    "## Criação das Tabelas em SQL e Importação de Dados\n",
    "\n",
    "Considere o seguinte exemplo em que é criada uma tabela em SQL e importado dados do arquivo CSV `demographic-person.csv`."
   ]
  },
  {
   "cell_type": "code",
   "execution_count": 11,
   "metadata": {},
   "outputs": [],
   "source": [
    "%defaultDatasource jdbc:h2:mem:db"
   ]
  },
  {
   "cell_type": "code",
   "execution_count": 12,
   "metadata": {},
   "outputs": [
    {
     "ename": "org.h2.jdbc.JdbcSQLException",
     "evalue": " Table \"PESSOA\" already exists; SQL statement",
     "output_type": "error",
     "text": "org.h2.jdbc.JdbcSQLException: Table \"PESSOA\" already exists; SQL statement:\nCREATE TABLE Pessoa (\nId VARCHAR(5) NOT NULL,\nGender INTEGER,\nAge INTEGER,\nPRIMARY KEY(Id)\n) AS SELECT\nid,\ngender,\nage\nFROM CSVREAD('../../../data/nhanes/demographic-person.csv') [42101-197]",
     "traceback": [
      "\u001b[1;31morg.h2.jdbc.JdbcSQLException: Table \"PESSOA\" already exists; SQL statement:\u001b[0;0m",
      "\u001b[1;31mCREATE TABLE Pessoa (\u001b[0;0m",
      "\u001b[1;31mId VARCHAR(5) NOT NULL,\u001b[0;0m",
      "\u001b[1;31mGender INTEGER,\u001b[0;0m",
      "\u001b[1;31mAge INTEGER,\u001b[0;0m",
      "\u001b[1;31mPRIMARY KEY(Id)\u001b[0;0m",
      "\u001b[1;31m) AS SELECT\u001b[0;0m",
      "\u001b[1;31mid,\u001b[0;0m",
      "\u001b[1;31mgender,\u001b[0;0m",
      "\u001b[1;31mage\u001b[0;0m",
      "\u001b[1;31mFROM CSVREAD('../../../data/nhanes/demographic-person.csv') [42101-197]\u001b[0;0m"
     ]
    }
   ],
   "source": [
    "CREATE TABLE Pessoa (\n",
    "  Id VARCHAR(5) NOT NULL,\n",
    "  Gender INTEGER,\n",
    "  Age INTEGER,\n",
    "  PRIMARY KEY(Id)\n",
    ") AS SELECT\n",
    "    id,\n",
    "    gender,\n",
    "    age\n",
    "FROM CSVREAD('../../../data/nhanes/demographic-person.csv');"
   ]
  },
  {
   "cell_type": "code",
   "execution_count": 13,
   "metadata": {},
   "outputs": [
    {
     "data": {
      "application/vnd.jupyter.widget-view+json": {
       "model_id": "30ded725-c5a4-4395-8b70-595445d3ddae",
       "version_major": 2,
       "version_minor": 0
      },
      "method": "display_data"
     },
     "metadata": {},
     "output_type": "display_data"
    }
   ],
   "source": [
    "SELECT * FROM Pessoa;"
   ]
  },
  {
   "cell_type": "markdown",
   "metadata": {},
   "source": [
    "# Tarefa 2 - Criação das Tabelas em SQL e Importação de Dados\n",
    "\n",
    "Escreva instruções SQL para montar as duas tabelas restante, conforme definido no esquema relacional da **Tarefa 1**.\n",
    "\n",
    "**Importante:** não defina chave primária para a tabela de uso de medicamento.\n",
    "\n",
    "Durante a criação das tabelas, realize a importação dos dados do arquivo CSV nas tabelas criadas, conforme exemplo anterior."
   ]
  },
  {
   "cell_type": "code",
   "execution_count": 14,
   "metadata": {},
   "outputs": [
    {
     "ename": "org.h2.jdbc.JdbcSQLException",
     "evalue": " Table \"MEDICAMENTOS\" already exists; SQL statement",
     "output_type": "error",
     "text": "org.h2.jdbc.JdbcSQLException: Table \"MEDICAMENTOS\" already exists; SQL statement:\nCREATE TABLE Medicamentos (\nName VARCHAR NOT NULL,\nCode VARCHAR(6) NOT NULL,\nPRIMARY KEY(Code)\n) AS SELECT\nname,\ncode\nFROM CSVREAD('../../../data/nhanes/medications-drug.csv') [42101-197]",
     "traceback": [
      "\u001b[1;31morg.h2.jdbc.JdbcSQLException: Table \"MEDICAMENTOS\" already exists; SQL statement:\u001b[0;0m",
      "\u001b[1;31mCREATE TABLE Medicamentos (\u001b[0;0m",
      "\u001b[1;31mName VARCHAR NOT NULL,\u001b[0;0m",
      "\u001b[1;31mCode VARCHAR(6) NOT NULL,\u001b[0;0m",
      "\u001b[1;31mPRIMARY KEY(Code)\u001b[0;0m",
      "\u001b[1;31m) AS SELECT\u001b[0;0m",
      "\u001b[1;31mname,\u001b[0;0m",
      "\u001b[1;31mcode\u001b[0;0m",
      "\u001b[1;31mFROM CSVREAD('../../../data/nhanes/medications-drug.csv') [42101-197]\u001b[0;0m"
     ]
    }
   ],
   "source": [
    "CREATE TABLE Medicamentos (\n",
    "  Name VARCHAR NOT NULL,\n",
    "  Code VARCHAR(6) NOT NULL,\n",
    "  PRIMARY KEY(Code)\n",
    ") AS SELECT\n",
    "    name,\n",
    "    code\n",
    "FROM CSVREAD('../../../data/nhanes/medications-drug.csv');"
   ]
  },
  {
   "cell_type": "code",
   "execution_count": 15,
   "metadata": {},
   "outputs": [
    {
     "data": {
      "application/vnd.jupyter.widget-view+json": {
       "model_id": "989bc606-f1fd-4d1e-9cea-b8817c7e24b9",
       "version_major": 2,
       "version_minor": 0
      },
      "method": "display_data"
     },
     "metadata": {},
     "output_type": "display_data"
    }
   ],
   "source": [
    "SELECT * FROM Medicamentos;"
   ]
  },
  {
   "cell_type": "code",
   "execution_count": 16,
   "metadata": {},
   "outputs": [
    {
     "ename": "org.h2.jdbc.JdbcSQLException",
     "evalue": " Table \"USOMEDICAMENTOS\" already exists; SQL statement",
     "output_type": "error",
     "text": "org.h2.jdbc.JdbcSQLException: Table \"USOMEDICAMENTOS\" already exists; SQL statement:\nCREATE TABLE UsoMedicamentos (\nPersonId VARCHAR(5) NOT NULL,\nDrugCode VARCHAR NOT NULL,\nDaysUse INTEGER\n) AS SELECT\nperson_id,\ndrug_code,\ndays_use\nFROM CSVREAD('../../../data/nhanes/medications-use.csv') [42101-197]",
     "traceback": [
      "\u001b[1;31morg.h2.jdbc.JdbcSQLException: Table \"USOMEDICAMENTOS\" already exists; SQL statement:\u001b[0;0m",
      "\u001b[1;31mCREATE TABLE UsoMedicamentos (\u001b[0;0m",
      "\u001b[1;31mPersonId VARCHAR(5) NOT NULL,\u001b[0;0m",
      "\u001b[1;31mDrugCode VARCHAR NOT NULL,\u001b[0;0m",
      "\u001b[1;31mDaysUse INTEGER\u001b[0;0m",
      "\u001b[1;31m) AS SELECT\u001b[0;0m",
      "\u001b[1;31mperson_id,\u001b[0;0m",
      "\u001b[1;31mdrug_code,\u001b[0;0m",
      "\u001b[1;31mdays_use\u001b[0;0m",
      "\u001b[1;31mFROM CSVREAD('../../../data/nhanes/medications-use.csv') [42101-197]\u001b[0;0m"
     ]
    }
   ],
   "source": [
    "CREATE TABLE UsoMedicamentos (\n",
    "  PersonId VARCHAR(5) NOT NULL,\n",
    "  DrugCode VARCHAR NOT NULL,\n",
    "  DaysUse INTEGER\n",
    ") AS SELECT\n",
    "    person_id,\n",
    "    drug_code,\n",
    "    days_use\n",
    "FROM CSVREAD('../../../data/nhanes/medications-use.csv');"
   ]
  },
  {
   "cell_type": "code",
   "execution_count": 17,
   "metadata": {},
   "outputs": [
    {
     "data": {
      "application/vnd.jupyter.widget-view+json": {
       "model_id": "c8c78784-8c75-4aa3-bcf6-05d260725f91",
       "version_major": 2,
       "version_minor": 0
      },
      "method": "display_data"
     },
     "metadata": {},
     "output_type": "display_data"
    }
   ],
   "source": [
    "SELECT * FROM UsoMedicamentos;"
   ]
  },
  {
   "cell_type": "markdown",
   "metadata": {},
   "source": [
    "# Tarefa 3 - Consultas Simples\n",
    "\n",
    "Execute as consultas a seguir."
   ]
  },
  {
   "cell_type": "markdown",
   "metadata": {},
   "source": [
    "a) Liste pessoas com idade acima de 60"
   ]
  },
  {
   "cell_type": "code",
   "execution_count": 18,
   "metadata": {},
   "outputs": [
    {
     "data": {
      "application/vnd.jupyter.widget-view+json": {
       "model_id": "ef188039-f30d-4a1c-984c-b9ccf7a1d1ae",
       "version_major": 2,
       "version_minor": 0
      },
      "method": "display_data"
     },
     "metadata": {},
     "output_type": "display_data"
    }
   ],
   "source": [
    "SELECT * FROM Pessoa WHERE age>60;"
   ]
  },
  {
   "cell_type": "markdown",
   "metadata": {},
   "source": [
    "b) Liste as idades das pessoas cadastradas (sem repetições)"
   ]
  },
  {
   "cell_type": "code",
   "execution_count": 19,
   "metadata": {},
   "outputs": [
    {
     "data": {
      "application/vnd.jupyter.widget-view+json": {
       "model_id": "eac23543-1e74-41af-be11-17b865c9b903",
       "version_major": 2,
       "version_minor": 0
      },
      "method": "display_data"
     },
     "metadata": {},
     "output_type": "display_data"
    }
   ],
   "source": [
    "SELECT DISTINCT age FROM Pessoa;"
   ]
  },
  {
   "cell_type": "markdown",
   "metadata": {},
   "source": [
    "c) Liste código das pessoas, idade, código dos medicamentos que usaram e dias de uso"
   ]
  },
  {
   "cell_type": "code",
   "execution_count": 24,
   "metadata": {},
   "outputs": [
    {
     "data": {
      "application/vnd.jupyter.widget-view+json": {
       "model_id": "693cf697-1fc9-4ace-932d-38c457c101ad",
       "version_major": 2,
       "version_minor": 0
      },
      "method": "display_data"
     },
     "metadata": {},
     "output_type": "display_data"
    }
   ],
   "source": [
    "SELECT Pessoa.Id, Pessoa.Age, UsoMedicamentos.DrugCode, UsoMedicamentos.DaysUse FROM Pessoa, UsoMedicamentos WHERE Pessoa.id = UsoMedicamentos.PersonId;"
   ]
  },
  {
   "cell_type": "markdown",
   "metadata": {},
   "source": [
    "d) Liste código das Pessoas, idade, nome dos medicamentos que usaram e quantos dias de uso"
   ]
  },
  {
   "cell_type": "code",
   "execution_count": 25,
   "metadata": {},
   "outputs": [
    {
     "data": {
      "application/vnd.jupyter.widget-view+json": {
       "model_id": "63fb67fc-82e1-48ac-8de9-3124285feb1c",
       "version_major": 2,
       "version_minor": 0
      },
      "method": "display_data"
     },
     "metadata": {},
     "output_type": "display_data"
    }
   ],
   "source": [
    "SELECT Pessoa.Id, Pessoa.Age,Medicamentos.Name, UsoMedicamentos.DaysUse FROM Pessoa, UsoMedicamentos, Medicamentos WHERE Pessoa.id = UsoMedicamentos.PersonId and Medicamentos.Code = UsoMedicamentos.DrugCode;"
   ]
  },
  {
   "cell_type": "markdown",
   "metadata": {},
   "source": [
    "e) Liste nome dos medicamentos que foram usados por pessoas (sem repetições)"
   ]
  },
  {
   "cell_type": "code",
   "execution_count": 26,
   "metadata": {},
   "outputs": [
    {
     "data": {
      "application/vnd.jupyter.widget-view+json": {
       "model_id": "d1ab834d-53c4-49fd-85e2-71d0c1250511",
       "version_major": 2,
       "version_minor": 0
      },
      "method": "display_data"
     },
     "metadata": {},
     "output_type": "display_data"
    }
   ],
   "source": [
    "SELECT DISTINCT name FROM Medicamentos;"
   ]
  },
  {
   "cell_type": "markdown",
   "metadata": {},
   "source": [
    "f) Liste nome dos medicamentos usados por mais de 2.000 dias (sem repetições)"
   ]
  },
  {
   "cell_type": "code",
   "execution_count": 28,
   "metadata": {},
   "outputs": [
    {
     "data": {
      "application/vnd.jupyter.widget-view+json": {
       "model_id": "e49f07cf-7675-4d57-a9b9-9639cb72231d",
       "version_major": 2,
       "version_minor": 0
      },
      "method": "display_data"
     },
     "metadata": {},
     "output_type": "display_data"
    }
   ],
   "source": [
    "SELECT Medicamentos.Name,  FROM Medicamentos, UsoMedicamentos WHERE UsoMedicamentos.DaysUse>2000 and Medicamentos.Code = UsoMedicamentos.DrugCode;"
   ]
  },
  {
   "cell_type": "code",
   "execution_count": null,
   "metadata": {},
   "outputs": [],
   "source": []
  }
 ],
 "metadata": {
  "kernelspec": {
   "display_name": "SQL",
   "language": "SQL",
   "name": "sql"
  },
  "language_info": {
   "codemirror_mode": "sql",
   "file_extension": ".sql",
   "mimetype": "",
   "name": "SQL",
   "nbconverter_exporter": "",
   "version": ""
  },
  "toc": {
   "base_numbering": 1,
   "nav_menu": {},
   "number_sections": false,
   "sideBar": false,
   "skip_h1_title": false,
   "title_cell": "Table of Contents",
   "title_sidebar": "Contents",
   "toc_cell": false,
   "toc_position": {},
   "toc_section_display": false,
   "toc_window_display": false
  }
 },
 "nbformat": 4,
 "nbformat_minor": 4
}
