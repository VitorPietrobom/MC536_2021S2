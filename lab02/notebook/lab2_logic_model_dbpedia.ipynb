{
  "nbformat": 4,
  "nbformat_minor": 5,
  "metadata": {
    "kernelspec": {
      "display_name": "Python 3",
      "language": "python",
      "name": "python3"
    },
    "language_info": {
      "codemirror_mode": {
        "name": "ipython",
        "version": 3
      },
      "file_extension": ".py",
      "mimetype": "text/x-python",
      "name": "python",
      "nbconvert_exporter": "python",
      "pygments_lexer": "ipython3",
      "version": "3.8.10"
    },
    "colab": {
      "name": "lab2-logic-model-dbpedia.ipynb",
      "provenance": [],
      "collapsed_sections": []
    }
  },
  "cells": [
    {
      "cell_type": "markdown",
      "metadata": {
        "id": "monetary-oakland"
      },
      "source": [
        "# Laboratório 2"
      ],
      "id": "monetary-oakland"
    },
    {
      "cell_type": "markdown",
      "metadata": {
        "id": "bridal-netscape"
      },
      "source": [
        "## Tarefa 1\n",
        "\n",
        "### Carregue o nó de Tenda dos Milagres (da versão em inglês Tent of Miracles) em Python e mostre o conteúdo JSON."
      ],
      "id": "bridal-netscape"
    },
    {
      "cell_type": "code",
      "metadata": {
        "id": "exciting-cement"
      },
      "source": [
        "import io\n",
        "import requests\n",
        "import json"
      ],
      "id": "exciting-cement",
      "execution_count": 51,
      "outputs": []
    },
    {
      "cell_type": "code",
      "metadata": {
        "colab": {
          "base_uri": "https://localhost:8080/"
        },
        "id": "x5LrMgKeYI_W",
        "outputId": "a74554b1-2a0c-497a-c320-71cb847433d6"
      },
      "source": [
        "url_template = \"http://dbpedia.org/data/{concept}.{format}\"\n",
        "\n",
        "concept = \"Tent of Miracles (novel)\"\n",
        "format = \"jsod\"\n",
        "\n",
        "concept = concept.replace(\" \", \"_\")\n",
        "\n",
        "url = url_template.replace(\"{concept}\", concept)\\\n",
        "                  .replace(\"{format}\", format)\n",
        "\n",
        "data = requests.get(url)\n",
        "js = data.json()\n",
        "print(json.dumps(js, indent=3))"
      ],
      "id": "x5LrMgKeYI_W",
      "execution_count": 52,
      "outputs": [
        {
          "output_type": "stream",
          "text": [
            "{\n",
            "   \"d\": {\n",
            "      \"results\": [\n",
            "         {\n",
            "            \"__metadata\": {\n",
            "               \"uri\": \"http://dbpedia.org/resource/Tent_of_Miracles_(novel)\"\n",
            "            },\n",
            "            \"http://www.w3.org/2000/01/rdf-schema#label\": \"Tent of Miracles (novel)\",\n",
            "            \"http://dbpedia.org/ontology/wikiPageWikiLink\": {\n",
            "               \"__deferred\": {\n",
            "                  \"uri\": \"http://dbpedia.org/resource/French_New_Wave\"\n",
            "               }\n",
            "            },\n",
            "            \"http://purl.org/dc/terms/subject\": {\n",
            "               \"__deferred\": {\n",
            "                  \"uri\": \"http://dbpedia.org/resource/Category:Modernist_novels\"\n",
            "               }\n",
            "            },\n",
            "            \"http://www.w3.org/1999/02/22-rdf-syntax-ns#type\": {\n",
            "               \"__deferred\": {\n",
            "                  \"uri\": \"http://dbpedia.org/ontology/WrittenWork\"\n",
            "               }\n",
            "            },\n",
            "            \"http://dbpedia.org/property/wikiPageUsesTemplate\": {\n",
            "               \"__deferred\": {\n",
            "                  \"uri\": \"http://dbpedia.org/resource/Template:According_to_whom\"\n",
            "               }\n",
            "            },\n",
            "            \"http://www.w3.org/2000/01/rdf-schema#comment\": \"Tent of Miracles (Portuguese: Tenda dos Milagres) is a Brazilian Modernist novel. It was written by Jorge Amado in 1967 and published the following year. It was later adapted to a 1977 Cinema Novo (Nouvelle Vague) film by director/screenplay writer Nelson Pereira dos Santos.\",\n",
            "            \"http://dbpedia.org/ontology/abstract\": \"La bottega dei miracoli \\u00e8 un romanzo di Jorge Amado pubblicato nel 1960. Come altri romanzi dell&#39;autore (ad esempio Tieta d&#39;Agreste e Teresa Batista) \\u00e8 un testo composito, con un intreccio zigzagante fra analessi e prolessi, con mutamenti di voci narranti ed inserti di materiale eterogeneo.\\u00c8 possibile che l&#39;evento scatenante del racconto (la visita del famoso scienziato) sia stato ispirato dall&#39;esperienza vissuta; in quello stesso 1960, infatti, Jean Paul Sartre e Simone De Beauvoir visitarono il Brasile su invito dello stesso Amado: la visita divenne un evento mediatico, celebrato in numerose manifestazioni istituzionali.\",\n",
            "            \"http://dbpedia.org/property/pubDate\": \"1969\",\n",
            "            \"http://dbpedia.org/property/country\": {\n",
            "               \"__deferred\": {\n",
            "                  \"uri\": \"http://dbpedia.org/resource/Brazil\"\n",
            "               }\n",
            "            },\n",
            "            \"http://www.w3.org/2002/07/owl#sameAs\": {\n",
            "               \"__deferred\": {\n",
            "                  \"uri\": \"http://rdf.freebase.com/ns/m.02xrs4\"\n",
            "               }\n",
            "            },\n",
            "            \"http://dbpedia.org/ontology/wikiPageRevisionID\": \"974212123\",\n",
            "            \"http://dbpedia.org/property/author\": {\n",
            "               \"__deferred\": {\n",
            "                  \"uri\": \"http://dbpedia.org/resource/Jorge_Amado\"\n",
            "               }\n",
            "            },\n",
            "            \"http://dbpedia.org/ontology/author\": {\n",
            "               \"__deferred\": {\n",
            "                  \"uri\": \"http://dbpedia.org/resource/Jorge_Amado\"\n",
            "               }\n",
            "            },\n",
            "            \"http://xmlns.com/foaf/0.1/name\": \"Tenda dos Milagres\",\n",
            "            \"http://dbpedia.org/property/englishPubDate\": \"1971\",\n",
            "            \"http://dbpedia.org/ontology/country\": {\n",
            "               \"__deferred\": {\n",
            "                  \"uri\": \"http://dbpedia.org/resource/Brazil\"\n",
            "               }\n",
            "            },\n",
            "            \"http://dbpedia.org/property/name\": \"Tent of Miracles\",\n",
            "            \"http://purl.org/linguistics/gold/hypernym\": {\n",
            "               \"__deferred\": {\n",
            "                  \"uri\": \"http://dbpedia.org/resource/Novel\"\n",
            "               }\n",
            "            },\n",
            "            \"http://dbpedia.org/property/titleOrig\": \"Tenda dos Milagres\",\n",
            "            \"http://dbpedia.org/ontology/publisher\": {\n",
            "               \"__deferred\": {\n",
            "                  \"uri\": \"http://dbpedia.org/resource/Brazil\"\n",
            "               }\n",
            "            },\n",
            "            \"http://dbpedia.org/ontology/language\": {\n",
            "               \"__deferred\": {\n",
            "                  \"uri\": \"http://dbpedia.org/resource/Portuguese_language\"\n",
            "               }\n",
            "            },\n",
            "            \"http://www.w3.org/ns/prov#wasDerivedFrom\": {\n",
            "               \"__deferred\": {\n",
            "                  \"uri\": \"http://en.wikipedia.org/wiki/Tent_of_Miracles_(novel)?oldid=974212123&ns=0\"\n",
            "               }\n",
            "            },\n",
            "            \"http://dbpedia.org/ontology/wikiPageLength\": \"5253\",\n",
            "            \"http://purl.org/dc/elements/1.1/publisher\": \"Martins, Sao Paulo, Brazil\",\n",
            "            \"http://dbpedia.org/property/language\": {\n",
            "               \"__deferred\": {\n",
            "                  \"uri\": \"http://dbpedia.org/resource/Portuguese_language\"\n",
            "               }\n",
            "            },\n",
            "            \"http://dbpedia.org/ontology/wikiPageID\": \"623351\",\n",
            "            \"http://dbpedia.org/property/publisher\": \"Martins, Sao Paulo, Brazil\",\n",
            "            \"http://dbpedia.org/property/caption\": \"First edition\",\n",
            "            \"http://xmlns.com/foaf/0.1/isPrimaryTopicOf\": {\n",
            "               \"__deferred\": {\n",
            "                  \"uri\": \"http://en.wikipedia.org/wiki/Tent_of_Miracles_(novel)\"\n",
            "               }\n",
            "            }\n",
            "         }\n",
            "      ],\n",
            "      \"__count\": \"1\"\n",
            "   }\n",
            "}\n"
          ],
          "name": "stdout"
        }
      ]
    },
    {
      "cell_type": "markdown",
      "metadata": {
        "id": "threatened-shepherd"
      },
      "source": [
        "## Tarefa 2\n",
        "### Recupere via Python e mostre o autor de Tenda dos Milagres?"
      ],
      "id": "threatened-shepherd"
    },
    {
      "cell_type": "code",
      "metadata": {
        "colab": {
          "base_uri": "https://localhost:8080/"
        },
        "id": "subjective-bachelor",
        "outputId": "79d849f5-3dd2-413b-b7e2-eed9ce4f5171"
      },
      "source": [
        "authorLink = js[\"d\"][\"results\"][0][\"http://dbpedia.org/ontology/author\"][\"__deferred\"][\"uri\"]\n",
        "print(\"Autor de Tenda dos Milagres: \" + authorLink)"
      ],
      "id": "subjective-bachelor",
      "execution_count": 53,
      "outputs": [
        {
          "output_type": "stream",
          "text": [
            "Autor de Tenda dos Milagres: http://dbpedia.org/resource/Jorge_Amado\n"
          ],
          "name": "stdout"
        }
      ]
    },
    {
      "cell_type": "markdown",
      "metadata": {
        "id": "specialized-playback"
      },
      "source": [
        "## Tarefa 3\n",
        "### Quais os termos usados para Aspirina (consulta JSON/MeSH em Python)?"
      ],
      "id": "specialized-playback"
    },
    {
      "cell_type": "code",
      "metadata": {
        "colab": {
          "base_uri": "https://localhost:8080/"
        },
        "id": "about-sacramento",
        "outputId": "1db06b23-c84c-4c94-ab29-85ac272a2d9f"
      },
      "source": [
        "url_template = \"https://id.nlm.nih.gov/mesh/lookup/descriptor?label={concept}&match={match}&limit={limit}\"\n",
        "\n",
        "concept = \"aspirin\"\n",
        "match = \"exact\"\n",
        "limit = \"10\"\n",
        "\n",
        "concept = concept.replace(\" \", \"%20\")\n",
        "\n",
        "url = url_template.replace(\"{concept}\", concept)\\\n",
        "                  .replace(\"{match}\", match)\\\n",
        "                  .replace(\"{limit}\", limit)\n",
        "\n",
        "data = requests.get(url)\n",
        "json_mi = data.json()\n",
        "print(json.dumps(json_mi, indent=3))"
      ],
      "id": "about-sacramento",
      "execution_count": 54,
      "outputs": [
        {
          "output_type": "stream",
          "text": [
            "[\n",
            "   {\n",
            "      \"resource\": \"http://id.nlm.nih.gov/mesh/D001241\",\n",
            "      \"label\": \"Aspirin\"\n",
            "   }\n",
            "]\n"
          ],
          "name": "stdout"
        }
      ]
    },
    {
      "cell_type": "code",
      "metadata": {
        "colab": {
          "base_uri": "https://localhost:8080/"
        },
        "id": "Dg0EX6rHatxl",
        "outputId": "42ed34f9-1573-4f9c-9063-7f0aaa4a9562"
      },
      "source": [
        "uri_mesh = json_mi[0][\"resource\"]\n",
        "print(\"uri do recurso: \" + uri_mesh)\n",
        "bar = str.rindex(uri_mesh, \"/\")\n",
        "print(\"código do recurso: \" + uri_mesh[bar+1:])"
      ],
      "id": "Dg0EX6rHatxl",
      "execution_count": 55,
      "outputs": [
        {
          "output_type": "stream",
          "text": [
            "uri do recurso: http://id.nlm.nih.gov/mesh/D001241\n",
            "código do recurso: D001241\n"
          ],
          "name": "stdout"
        }
      ]
    },
    {
      "cell_type": "code",
      "metadata": {
        "colab": {
          "base_uri": "https://localhost:8080/"
        },
        "id": "NSFjNVJnauWC",
        "outputId": "e7897bba-54d2-4176-a57f-954bdda73201"
      },
      "source": [
        "url_template = \"https://id.nlm.nih.gov/mesh/lookup/details?descriptor={code}\"\n",
        "\n",
        "code = uri_mesh[bar+1:]\n",
        "\n",
        "url = url_template.replace(\"{code}\", code)\n",
        "\n",
        "data = requests.get(url)\n",
        "json_mid = data.json()\n",
        "print(json.dumps(json_mid, indent=3))"
      ],
      "id": "NSFjNVJnauWC",
      "execution_count": 56,
      "outputs": [
        {
          "output_type": "stream",
          "text": [
            "{\n",
            "   \"descriptor\": \"http://id.nlm.nih.gov/mesh/D001241\",\n",
            "   \"terms\": [\n",
            "      {\n",
            "         \"resource\": \"http://id.nlm.nih.gov/mesh/T003713\",\n",
            "         \"label\": \"Aspirin\",\n",
            "         \"preferred\": true\n",
            "      },\n",
            "      {\n",
            "         \"resource\": \"http://id.nlm.nih.gov/mesh/T003714\",\n",
            "         \"label\": \"2-(Acetyloxy)benzoic Acid\",\n",
            "         \"preferred\": false\n",
            "      },\n",
            "      {\n",
            "         \"resource\": \"http://id.nlm.nih.gov/mesh/T003712\",\n",
            "         \"label\": \"Acetylsalicylic Acid\",\n",
            "         \"preferred\": false\n",
            "      },\n",
            "      {\n",
            "         \"resource\": \"http://id.nlm.nih.gov/mesh/T003721\",\n",
            "         \"label\": \"Acetysal\",\n",
            "         \"preferred\": false\n",
            "      },\n",
            "      {\n",
            "         \"resource\": \"http://id.nlm.nih.gov/mesh/T003722\",\n",
            "         \"label\": \"Acylpyrin\",\n",
            "         \"preferred\": false\n",
            "      },\n",
            "      {\n",
            "         \"resource\": \"http://id.nlm.nih.gov/mesh/T003711\",\n",
            "         \"label\": \"Aloxiprimum\",\n",
            "         \"preferred\": false\n",
            "      },\n",
            "      {\n",
            "         \"resource\": \"http://id.nlm.nih.gov/mesh/T003723\",\n",
            "         \"label\": \"Colfarit\",\n",
            "         \"preferred\": false\n",
            "      },\n",
            "      {\n",
            "         \"resource\": \"http://id.nlm.nih.gov/mesh/T003715\",\n",
            "         \"label\": \"Dispril\",\n",
            "         \"preferred\": false\n",
            "      },\n",
            "      {\n",
            "         \"resource\": \"http://id.nlm.nih.gov/mesh/T003719\",\n",
            "         \"label\": \"Easprin\",\n",
            "         \"preferred\": false\n",
            "      },\n",
            "      {\n",
            "         \"resource\": \"http://id.nlm.nih.gov/mesh/T003724\",\n",
            "         \"label\": \"Ecotrin\",\n",
            "         \"preferred\": false\n",
            "      },\n",
            "      {\n",
            "         \"resource\": \"http://id.nlm.nih.gov/mesh/T003725\",\n",
            "         \"label\": \"Endosprin\",\n",
            "         \"preferred\": false\n",
            "      },\n",
            "      {\n",
            "         \"resource\": \"http://id.nlm.nih.gov/mesh/T003726\",\n",
            "         \"label\": \"Magnecyl\",\n",
            "         \"preferred\": false\n",
            "      },\n",
            "      {\n",
            "         \"resource\": \"http://id.nlm.nih.gov/mesh/T003727\",\n",
            "         \"label\": \"Micristin\",\n",
            "         \"preferred\": false\n",
            "      },\n",
            "      {\n",
            "         \"resource\": \"http://id.nlm.nih.gov/mesh/T003717\",\n",
            "         \"label\": \"Polopirin\",\n",
            "         \"preferred\": false\n",
            "      },\n",
            "      {\n",
            "         \"resource\": \"http://id.nlm.nih.gov/mesh/T003728\",\n",
            "         \"label\": \"Polopiryna\",\n",
            "         \"preferred\": false\n",
            "      },\n",
            "      {\n",
            "         \"resource\": \"http://id.nlm.nih.gov/mesh/T003716\",\n",
            "         \"label\": \"Solprin\",\n",
            "         \"preferred\": false\n",
            "      },\n",
            "      {\n",
            "         \"resource\": \"http://id.nlm.nih.gov/mesh/T003718\",\n",
            "         \"label\": \"Solupsan\",\n",
            "         \"preferred\": false\n",
            "      },\n",
            "      {\n",
            "         \"resource\": \"http://id.nlm.nih.gov/mesh/T003720\",\n",
            "         \"label\": \"Zorprin\",\n",
            "         \"preferred\": false\n",
            "      }\n",
            "   ],\n",
            "   \"qualifiers\": [\n",
            "      {\n",
            "         \"resource\": \"http://id.nlm.nih.gov/mesh/Q000008\",\n",
            "         \"label\": \"administration & dosage\"\n",
            "      },\n",
            "      {\n",
            "         \"resource\": \"http://id.nlm.nih.gov/mesh/Q000009\",\n",
            "         \"label\": \"adverse effects\"\n",
            "      },\n",
            "      {\n",
            "         \"resource\": \"http://id.nlm.nih.gov/mesh/Q000819\",\n",
            "         \"label\": \"agonists\"\n",
            "      },\n",
            "      {\n",
            "         \"resource\": \"http://id.nlm.nih.gov/mesh/Q000031\",\n",
            "         \"label\": \"analogs & derivatives\"\n",
            "      },\n",
            "      {\n",
            "         \"resource\": \"http://id.nlm.nih.gov/mesh/Q000032\",\n",
            "         \"label\": \"analysis\"\n",
            "      },\n",
            "      {\n",
            "         \"resource\": \"http://id.nlm.nih.gov/mesh/Q000037\",\n",
            "         \"label\": \"antagonists & inhibitors\"\n",
            "      },\n",
            "      {\n",
            "         \"resource\": \"http://id.nlm.nih.gov/mesh/Q000097\",\n",
            "         \"label\": \"blood\"\n",
            "      },\n",
            "      {\n",
            "         \"resource\": \"http://id.nlm.nih.gov/mesh/Q000134\",\n",
            "         \"label\": \"cerebrospinal fluid\"\n",
            "      },\n",
            "      {\n",
            "         \"resource\": \"http://id.nlm.nih.gov/mesh/Q000138\",\n",
            "         \"label\": \"chemical synthesis\"\n",
            "      },\n",
            "      {\n",
            "         \"resource\": \"http://id.nlm.nih.gov/mesh/Q000737\",\n",
            "         \"label\": \"chemistry\"\n",
            "      },\n",
            "      {\n",
            "         \"resource\": \"http://id.nlm.nih.gov/mesh/Q000145\",\n",
            "         \"label\": \"classification\"\n",
            "      },\n",
            "      {\n",
            "         \"resource\": \"http://id.nlm.nih.gov/mesh/Q000191\",\n",
            "         \"label\": \"economics\"\n",
            "      },\n",
            "      {\n",
            "         \"resource\": \"http://id.nlm.nih.gov/mesh/Q000266\",\n",
            "         \"label\": \"history\"\n",
            "      },\n",
            "      {\n",
            "         \"resource\": \"http://id.nlm.nih.gov/mesh/Q000276\",\n",
            "         \"label\": \"immunology\"\n",
            "      },\n",
            "      {\n",
            "         \"resource\": \"http://id.nlm.nih.gov/mesh/Q000302\",\n",
            "         \"label\": \"isolation & purification\"\n",
            "      },\n",
            "      {\n",
            "         \"resource\": \"http://id.nlm.nih.gov/mesh/Q000378\",\n",
            "         \"label\": \"metabolism\"\n",
            "      },\n",
            "      {\n",
            "         \"resource\": \"http://id.nlm.nih.gov/mesh/Q000493\",\n",
            "         \"label\": \"pharmacokinetics\"\n",
            "      },\n",
            "      {\n",
            "         \"resource\": \"http://id.nlm.nih.gov/mesh/Q000494\",\n",
            "         \"label\": \"pharmacology\"\n",
            "      },\n",
            "      {\n",
            "         \"resource\": \"http://id.nlm.nih.gov/mesh/Q000506\",\n",
            "         \"label\": \"poisoning\"\n",
            "      },\n",
            "      {\n",
            "         \"resource\": \"http://id.nlm.nih.gov/mesh/Q000528\",\n",
            "         \"label\": \"radiation effects\"\n",
            "      },\n",
            "      {\n",
            "         \"resource\": \"http://id.nlm.nih.gov/mesh/Q000592\",\n",
            "         \"label\": \"standards\"\n",
            "      },\n",
            "      {\n",
            "         \"resource\": \"http://id.nlm.nih.gov/mesh/Q000600\",\n",
            "         \"label\": \"supply & distribution\"\n",
            "      },\n",
            "      {\n",
            "         \"resource\": \"http://id.nlm.nih.gov/mesh/Q000627\",\n",
            "         \"label\": \"therapeutic use\"\n",
            "      },\n",
            "      {\n",
            "         \"resource\": \"http://id.nlm.nih.gov/mesh/Q000633\",\n",
            "         \"label\": \"toxicity\"\n",
            "      },\n",
            "      {\n",
            "         \"resource\": \"http://id.nlm.nih.gov/mesh/Q000652\",\n",
            "         \"label\": \"urine\"\n",
            "      }\n",
            "   ],\n",
            "   \"seealso\": []\n",
            "}\n"
          ],
          "name": "stdout"
        }
      ]
    },
    {
      "cell_type": "markdown",
      "metadata": {
        "id": "uniform-worst"
      },
      "source": [
        "## Tarefa 4\n",
        "### Escolha algum lugar no OpenStreetMap e elabore a mesma sequência de três chamadas de serviços para o seu conceito."
      ],
      "id": "uniform-worst"
    },
    {
      "cell_type": "code",
      "metadata": {
        "colab": {
          "base_uri": "https://localhost:8080/"
        },
        "id": "virgin-volunteer",
        "outputId": "2c0992a5-cd52-4a9d-f643-f640354792a5"
      },
      "source": [
        "url_template = \"http://nominatim.openstreetmap.org/search?format={format}&q={query}\"\n",
        "format = \"json\"\n",
        "query = \"Wellstar Atlanta Medical Center\"\n",
        "\n",
        "url = url_template.replace(\"{format}\", format)\\\n",
        "                  .replace(\"{query}\", query)\n",
        "\n",
        "data = requests.get(url)\n",
        "hospital_ref = data.json()\n",
        "print(json.dumps(hospital_ref, indent=3))"
      ],
      "id": "virgin-volunteer",
      "execution_count": 57,
      "outputs": [
        {
          "output_type": "stream",
          "text": [
            "[\n",
            "   {\n",
            "      \"place_id\": 259192987,\n",
            "      \"licence\": \"Data \\u00a9 OpenStreetMap contributors, ODbL 1.0. https://osm.org/copyright\",\n",
            "      \"osm_type\": \"relation\",\n",
            "      \"osm_id\": 7125037,\n",
            "      \"boundingbox\": [\n",
            "         \"33.761409\",\n",
            "         \"33.763902\",\n",
            "         \"-84.3741686\",\n",
            "         \"-84.3705697\"\n",
            "      ],\n",
            "      \"lat\": \"33.762858449999996\",\n",
            "      \"lon\": \"-84.37309675572769\",\n",
            "      \"display_name\": \"Wellstar Atlanta Medical Center, 303, Parkway Drive Northeast, Sweet Auburn, Old Fourth Ward, Atlanta, Fulton County, Georgia, 30312, United States\",\n",
            "      \"class\": \"amenity\",\n",
            "      \"type\": \"hospital\",\n",
            "      \"importance\": 0.7109387981495774,\n",
            "      \"icon\": \"https://nominatim.openstreetmap.org/ui/mapicons//health_hospital.p.20.png\"\n",
            "   }\n",
            "]\n"
          ],
          "name": "stdout"
        }
      ]
    },
    {
      "cell_type": "code",
      "metadata": {
        "colab": {
          "base_uri": "https://localhost:8080/"
        },
        "id": "lpQXy_-ybe2h",
        "outputId": "329ce2cd-8f1d-4452-8ac2-a219682c9b2c"
      },
      "source": [
        "print(hospital_ref[0][\"osm_id\"])"
      ],
      "id": "lpQXy_-ybe2h",
      "execution_count": 58,
      "outputs": [
        {
          "output_type": "stream",
          "text": [
            "7125037\n"
          ],
          "name": "stdout"
        }
      ]
    },
    {
      "cell_type": "code",
      "metadata": {
        "colab": {
          "base_uri": "https://localhost:8080/"
        },
        "id": "B9pMH9dZbROD",
        "outputId": "ac4c7297-e3d8-4362-b142-9251cfc485a3"
      },
      "source": [
        "url_template = \"https://api.openstreetmap.org/api/0.6/{element_type}/{id}.{format}\"\n",
        "\n",
        "element_type = \"relation\" # types: node, way, or relation\n",
        "id = str(hospital_ref[0][\"osm_id\"])\n",
        "format = \"json\"\n",
        "\n",
        "url = url_template.replace(\"{element_type}\", element_type)\\\n",
        "                  .replace(\"{id}\", id)\\\n",
        "                  .replace(\"{format}\", format)\n",
        "\n",
        "data = requests.get(url)\n",
        "hospital_relation = data.json()\n",
        "print(json.dumps(hospital_relation, indent=3))"
      ],
      "id": "B9pMH9dZbROD",
      "execution_count": 59,
      "outputs": [
        {
          "output_type": "stream",
          "text": [
            "{\n",
            "   \"version\": \"0.6\",\n",
            "   \"generator\": \"CGImap 0.8.5 (1744652 spike-07.openstreetmap.org)\",\n",
            "   \"copyright\": \"OpenStreetMap and contributors\",\n",
            "   \"attribution\": \"http://www.openstreetmap.org/copyright\",\n",
            "   \"license\": \"http://opendatacommons.org/licenses/odbl/1-0/\",\n",
            "   \"elements\": [\n",
            "      {\n",
            "         \"type\": \"relation\",\n",
            "         \"id\": 7125037,\n",
            "         \"timestamp\": \"2020-01-25T21:09:18Z\",\n",
            "         \"version\": 3,\n",
            "         \"changeset\": 80084116,\n",
            "         \"user\": \"itsamap!\",\n",
            "         \"uid\": 3854496,\n",
            "         \"members\": [\n",
            "            {\n",
            "               \"type\": \"way\",\n",
            "               \"ref\": 484102054,\n",
            "               \"role\": \"outer\"\n",
            "            },\n",
            "            {\n",
            "               \"type\": \"way\",\n",
            "               \"ref\": 484102056,\n",
            "               \"role\": \"outer\"\n",
            "            }\n",
            "         ],\n",
            "         \"tags\": {\n",
            "            \"addr:city\": \"Atlanta\",\n",
            "            \"addr:housenumber\": \"303\",\n",
            "            \"addr:postcode\": \"30312\",\n",
            "            \"addr:state\": \"GA\",\n",
            "            \"addr:street\": \"Parkway Drive Northeast\",\n",
            "            \"amenity\": \"hospital\",\n",
            "            \"contact:phone\": \"+1 (404) 265-4000\",\n",
            "            \"contact:website\": \"https://www.wellstar.org/locations/pages/wellstar-atlanta-medical-center.aspx\",\n",
            "            \"emergency\": \"yes\",\n",
            "            \"gnis:feature_id\": \"351199\",\n",
            "            \"healthcare\": \"hospital\",\n",
            "            \"name\": \"Wellstar Atlanta Medical Center\",\n",
            "            \"opening_hours\": \"24/7\",\n",
            "            \"operator\": \"WellStar Health System\",\n",
            "            \"phone\": \"+1 (404) 265-4000\",\n",
            "            \"type\": \"multipolygon\",\n",
            "            \"website\": \"https://www.wellstar.org/locations/pages/wellstar-atlanta-medical-center.aspx\",\n",
            "            \"wikidata\": \"Q4816110\",\n",
            "            \"wikipedia\": \"en:Atlanta Medical Center\"\n",
            "         }\n",
            "      }\n",
            "   ]\n",
            "}\n"
          ],
          "name": "stdout"
        }
      ]
    },
    {
      "cell_type": "code",
      "metadata": {
        "colab": {
          "base_uri": "https://localhost:8080/"
        },
        "id": "UNCXTxd9bRZe",
        "outputId": "893360e7-4d25-45ce-e164-293d9767d566"
      },
      "source": [
        "print(hospital_relation[\"elements\"][0][\"tags\"][\"wikipedia\"])"
      ],
      "id": "UNCXTxd9bRZe",
      "execution_count": 60,
      "outputs": [
        {
          "output_type": "stream",
          "text": [
            "en:Atlanta Medical Center\n"
          ],
          "name": "stdout"
        }
      ]
    },
    {
      "cell_type": "code",
      "metadata": {
        "colab": {
          "base_uri": "https://localhost:8080/"
        },
        "id": "JowXY7WGbloz",
        "outputId": "59b3176c-de7a-4b0a-e988-b7351f2fc563"
      },
      "source": [
        "url_template = \"http://dbpedia.org/data/{concept}.{format}\"\n",
        "concept = hospital_relation[\"elements\"][0][\"tags\"][\"wikipedia\"].replace(\" \", \"_\")\\\n",
        "                                                        .replace(\"en:\", \"\")\n",
        "format = \"jsod\"\n",
        "\n",
        "url = url_template.replace(\"{concept}\", concept)\\\n",
        "                  .replace(\"{format}\", format)\n",
        "\n",
        "data = requests.get(url)\n",
        "museum_dbpedia = data.json()\n",
        "print(json.dumps(museum_dbpedia, indent=3))"
      ],
      "id": "JowXY7WGbloz",
      "execution_count": 61,
      "outputs": [
        {
          "output_type": "stream",
          "text": [
            "{\n",
            "   \"d\": {\n",
            "      \"results\": [\n",
            "         {\n",
            "            \"__metadata\": {\n",
            "               \"uri\": \"http://dbpedia.org/resource/Atlanta_Medical_Center\"\n",
            "            },\n",
            "            \"http://dbpedia.org/ontology/wikiPageWikiLink\": {\n",
            "               \"__deferred\": {\n",
            "                  \"uri\": \"http://dbpedia.org/resource/Great_Atlanta_fire_of_1917\"\n",
            "               }\n",
            "            },\n",
            "            \"http://xmlns.com/foaf/0.1/name\": \"Wellstar Atlanta Medical Center\",\n",
            "            \"http://www.w3.org/1999/02/22-rdf-syntax-ns#type\": {\n",
            "               \"__deferred\": {\n",
            "                  \"uri\": \"http://dbpedia.org/ontology/Building\"\n",
            "               }\n",
            "            },\n",
            "            \"http://dbpedia.org/ontology/bedCount\": \"460\",\n",
            "            \"http://dbpedia.org/property/region\": {\n",
            "               \"__deferred\": {\n",
            "                  \"uri\": \"http://dbpedia.org/resource/Atlanta\"\n",
            "               }\n",
            "            },\n",
            "            \"http://purl.org/dc/terms/subject\": {\n",
            "               \"__deferred\": {\n",
            "                  \"uri\": \"http://dbpedia.org/resource/Category:Hospitals_established_in_1901\"\n",
            "               }\n",
            "            },\n",
            "            \"http://www.w3.org/2002/07/owl#sameAs\": {\n",
            "               \"__deferred\": {\n",
            "                  \"uri\": \"http://www.wikidata.org/entity/Q4816110\"\n",
            "               }\n",
            "            },\n",
            "            \"http://dbpedia.org/ontology/thumbnail\": {\n",
            "               \"__deferred\": {\n",
            "                  \"uri\": \"http://commons.wikimedia.org/wiki/Special:FilePath/Atlanta_Medical_Center.JPG?width=300\"\n",
            "               }\n",
            "            },\n",
            "            \"http://dbpedia.org/property/wikiPageUsesTemplate\": {\n",
            "               \"__deferred\": {\n",
            "                  \"uri\": \"http://dbpedia.org/resource/Template:Infobox_hospital\"\n",
            "               }\n",
            "            },\n",
            "            \"http://xmlns.com/foaf/0.1/depiction\": {\n",
            "               \"__deferred\": {\n",
            "                  \"uri\": \"http://commons.wikimedia.org/wiki/Special:FilePath/Atlanta_Medical_Center.JPG\"\n",
            "               }\n",
            "            },\n",
            "            \"http://dbpedia.org/ontology/wikiPageExternalLink\": {\n",
            "               \"__deferred\": {\n",
            "                  \"uri\": \"https://www.wellstar.org/amc\"\n",
            "               }\n",
            "            },\n",
            "            \"http://www.w3.org/2003/01/geo/wgs84_pos#lat\": \"33.76269912719727\",\n",
            "            \"http://dbpedia.org/property/healthcare\": \"Private\",\n",
            "            \"http://www.w3.org/2000/01/rdf-schema#label\": \"Atlanta Medical Center\",\n",
            "            \"http://xmlns.com/foaf/0.1/homepage\": {\n",
            "               \"__deferred\": {\n",
            "                  \"uri\": \"https://www.wellstar.org/amc\"\n",
            "               }\n",
            "            },\n",
            "            \"http://www.w3.org/2000/01/rdf-schema#comment\": \"Wellstar Atlanta Medical Center is a hospital in Atlanta, Georgia operated by Wellstar Health System. It has 460 beds and over 700 physicians. The hospital is a Level I Trauma Center, and an Advanced Primary Stroke Center. It houses a Neurointensive Care Unit and a Level III Neonatal ICU. It was formerly known as Georgia Baptist Hospital.\",\n",
            "            \"http://www.w3.org/2004/02/skos/core#closeMatch\": {\n",
            "               \"__deferred\": {\n",
            "                  \"uri\": \"http://www.grid.ac/institutes/grid.414027.4\"\n",
            "               }\n",
            "            },\n",
            "            \"http://dbpedia.org/ontology/openingYear\": \"1901\",\n",
            "            \"http://dbpedia.org/property/caption\": \"View from Boulevard\",\n",
            "            \"http://dbpedia.org/ontology/wikiPageRevisionID\": \"1022719788\",\n",
            "            \"http://www.w3.org/2003/01/geo/wgs84_pos#long\": \"-84.37279510498047\",\n",
            "            \"http://dbpedia.org/ontology/region\": {\n",
            "               \"__deferred\": {\n",
            "                  \"uri\": \"http://dbpedia.org/resource/Atlanta\"\n",
            "               }\n",
            "            },\n",
            "            \"http://dbpedia.org/property/founded\": \"1901\",\n",
            "            \"http://dbpedia.org/property/country\": \"United States\",\n",
            "            \"http://www.georss.org/georss/point\": \"33.7627 -84.372798\",\n",
            "            \"http://dbpedia.org/property/name\": \"Wellstar Atlanta Medical Center\",\n",
            "            \"http://dbpedia.org/property/org/group\": {\n",
            "               \"__deferred\": {\n",
            "                  \"uri\": \"http://dbpedia.org/resource/Wellstar_Health_System\"\n",
            "               }\n",
            "            },\n",
            "            \"http://www.w3.org/2003/01/geo/wgs84_pos#geometry\": \"POINT(-84.37279510498 33.762699127197)\",\n",
            "            \"http://purl.org/linguistics/gold/hypernym\": {\n",
            "               \"__deferred\": {\n",
            "                  \"uri\": \"http://dbpedia.org/resource/Hospital\"\n",
            "               }\n",
            "            },\n",
            "            \"http://dbpedia.org/property/state\": {\n",
            "               \"__deferred\": {\n",
            "                  \"uri\": \"http://dbpedia.org/resource/Georgia_(U.S._state)\"\n",
            "               }\n",
            "            },\n",
            "            \"http://dbpedia.org/property/type\": \"Teaching\",\n",
            "            \"http://dbpedia.org/ontology/owner\": {\n",
            "               \"__deferred\": {\n",
            "                  \"uri\": \"http://dbpedia.org/resource/Wellstar_Health_System\"\n",
            "               }\n",
            "            },\n",
            "            \"http://dbpedia.org/property/website\": {\n",
            "               \"__deferred\": {\n",
            "                  \"uri\": \"https://www.wellstar.org/amc\"\n",
            "               }\n",
            "            },\n",
            "            \"http://dbpedia.org/property/beds\": \"460\",\n",
            "            \"http://dbpedia.org/ontology/state\": {\n",
            "               \"__deferred\": {\n",
            "                  \"uri\": \"http://dbpedia.org/resource/Georgia_(U.S._state)\"\n",
            "               }\n",
            "            },\n",
            "            \"http://dbpedia.org/property/emergency\": \"I\",\n",
            "            \"http://xmlns.com/foaf/0.1/isPrimaryTopicOf\": {\n",
            "               \"__deferred\": {\n",
            "                  \"uri\": \"http://en.wikipedia.org/wiki/Atlanta_Medical_Center\"\n",
            "               }\n",
            "            },\n",
            "            \"http://dbpedia.org/ontology/wikiPageID\": \"21296729\",\n",
            "            \"http://www.w3.org/ns/prov#wasDerivedFrom\": {\n",
            "               \"__deferred\": {\n",
            "                  \"uri\": \"http://en.wikipedia.org/wiki/Atlanta_Medical_Center?oldid=1022719788&ns=0\"\n",
            "               }\n",
            "            },\n",
            "            \"http://dbpedia.org/ontology/abstract\": \"Wellstar Atlanta Medical Center is a hospital in Atlanta, Georgia operated by Wellstar Health System. It has 460 beds and over 700 physicians. The hospital is a Level I Trauma Center, and an Advanced Primary Stroke Center. It houses a Neurointensive Care Unit and a Level III Neonatal ICU. It was formerly known as Georgia Baptist Hospital.\",\n",
            "            \"http://schema.org/sameAs\": {\n",
            "               \"__deferred\": {\n",
            "                  \"uri\": \"http://viaf.org/viaf/136332673\"\n",
            "               }\n",
            "            },\n",
            "            \"http://dbpedia.org/ontology/wikiPageLength\": \"7234\"\n",
            "         }\n",
            "      ],\n",
            "      \"__count\": \"1\"\n",
            "   }\n",
            "}\n"
          ],
          "name": "stdout"
        }
      ]
    }
  ]
}